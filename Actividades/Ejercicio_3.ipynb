{
  "nbformat": 4,
  "nbformat_minor": 0,
  "metadata": {
    "colab": {
      "provenance": [],
      "authorship_tag": "ABX9TyMWQo+NVNsgbdGLCx2dl/pW",
      "include_colab_link": true
    },
    "kernelspec": {
      "name": "python3",
      "display_name": "Python 3"
    },
    "language_info": {
      "name": "python"
    }
  },
  "cells": [
    {
      "cell_type": "markdown",
      "metadata": {
        "id": "view-in-github",
        "colab_type": "text"
      },
      "source": [
        "<a href=\"https://colab.research.google.com/github/juniiorH/IA-RN-N4/blob/main/Actividades/Ejercicio_3.ipynb\" target=\"_parent\"><img src=\"https://colab.research.google.com/assets/colab-badge.svg\" alt=\"Open In Colab\"/></a>"
      ]
    },
    {
      "cell_type": "markdown",
      "source": [
        "**Actividad 2: Diseño de algoritmos en Python, Ejercicio 3**\n",
        "\n",
        "Edilson Alejandro Hernández López 2109291\n",
        "\n",
        "Hora clase: Martes N4-N6\n",
        "\n"
      ],
      "metadata": {
        "id": "rB4_1qp-yUh3"
      }
    },
    {
      "cell_type": "code",
      "execution_count": 1,
      "metadata": {
        "colab": {
          "base_uri": "https://localhost:8080/"
        },
        "id": "rbvc8xdQ92ce",
        "outputId": "1ba059f9-9b0f-4036-80a2-b50c87a7b6d0"
      },
      "outputs": [
        {
          "output_type": "stream",
          "name": "stdout",
          "text": [
            "Cuantos elementos quieres en la serie? 8\n",
            "[0, 1, 1, 2, 3, 5, 8, 13]\n"
          ]
        }
      ],
      "source": [
        "def fibonacci(n):\n",
        "  serie=[0,1]\n",
        "  while len(serie)<n:\n",
        "    sig=serie[-1]+serie[-2]\n",
        "    serie.append(sig)\n",
        "  return serie\n",
        "\n",
        "n= int(input(\"Cuantos elementos quieres en la serie? \"))\n",
        "serie= fibonacci(n)\n",
        "print (serie)"
      ]
    }
  ]
}