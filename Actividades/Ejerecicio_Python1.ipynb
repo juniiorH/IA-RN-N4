{
  "nbformat": 4,
  "nbformat_minor": 0,
  "metadata": {
    "colab": {
      "provenance": []
    },
    "kernelspec": {
      "name": "python3",
      "display_name": "Python 3"
    },
    "language_info": {
      "name": "python"
    }
  },
  "cells": [
    {
      "cell_type": "markdown",
      "source": [
        "**Actividad 2: Diseño de algoritmos en Python, Ejercicio 1**\n",
        "\n",
        "Edilson Alejandro Hernández López 2109291\n",
        "\n",
        "Hora clase: Martes N4-N6\n",
        "\n"
      ],
      "metadata": {
        "id": "rB4_1qp-yUh3"
      }
    },
    {
      "cell_type": "code",
      "execution_count": 9,
      "metadata": {
        "id": "-Bvx2VNOyAdw",
        "colab": {
          "base_uri": "https://localhost:8080/"
        },
        "outputId": "cd866d81-8a30-4513-f233-c0aa6981144b"
      },
      "outputs": [
        {
          "output_type": "stream",
          "name": "stdout",
          "text": [
            "Dime tu nombre, excepto si te llamas Juan, Ana o Pedro edil\n",
            "Hola, un gusto conocerte  edil\n"
          ]
        }
      ],
      "source": [
        "nombre= input(\"Dime tu nombre, excepto si te llamas Juan, Ana o Pedro \")\n",
        "nombre= nombre.lower()\n",
        "if (nombre=='ana') or (nombre=='juan') or (nombre=='pedro'):\n",
        "  print(\"No te quiero saludar\")\n",
        "else:\n",
        "  print(\"Hola, un gusto conocerte \", nombre)"
      ]
    }
  ]
}