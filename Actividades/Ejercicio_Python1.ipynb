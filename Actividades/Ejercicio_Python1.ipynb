{
  "nbformat": 4,
  "nbformat_minor": 0,
  "metadata": {
    "colab": {
      "provenance": []
    },
    "kernelspec": {
      "name": "python3",
      "display_name": "Python 3"
    },
    "language_info": {
      "name": "python"
    }
  },
  "cells": [
    {
      "cell_type": "markdown",
      "source": [
        "**Actividad 2: Diseño de algoritmos en Python**\n",
        "\n",
        "Edilson Alejandro Hernández López 2109291\n",
        "\n",
        "Hora clase: Martes N4-N6\n",
        "\n"
      ],
      "metadata": {
        "id": "rB4_1qp-yUh3"
      }
    },
    {
      "cell_type": "code",
      "execution_count": null,
      "metadata": {
        "id": "-Bvx2VNOyAdw",
        "colab": {
          "base_uri": "https://localhost:8080/"
        },
        "outputId": "c3ca06c0-e6be-404c-c47a-75b17c748c34"
      },
      "outputs": [
        {
          "output_type": "stream",
          "name": "stdout",
          "text": [
            "Dime tu nombre, excepto si te llamas Juan, Ana o Pedro edil\n",
            "Hola, un gusto conocerte  edil\n"
          ]
        }
      ],
      "source": [
        "#1. Desarrolla un algoritmo que le pida al usuario por su nombre y que lo salude con su nombre, excepto si se llama “Ana”, “Juan”, y “Pedro”.\n",
        "nombre= input(\"Dime tu nombre, excepto si te llamas Juan, Ana o Pedro \")\n",
        "nombre= nombre.lower()\n",
        "if (nombre=='ana') or (nombre=='juan') or (nombre=='pedro'):\n",
        "  print(\"No te quiero saludar\")\n",
        "else:\n",
        "  print(\"Hola, un gusto conocerte \", nombre)"
      ]
    },
    {
      "cell_type": "code",
      "execution_count": null,
      "metadata": {
        "id": "BCOGKsnG5Ezj",
        "colab": {
          "base_uri": "https://localhost:8080/"
        },
        "outputId": "9a8beecb-d2ab-48f2-c35b-b14ec7891e04"
      },
      "outputs": [
        {
          "output_type": "stream",
          "name": "stdout",
          "text": [
            "Numero de ellementos en la lista: 4\n",
            "Ingresa el elemento de la posicion 1:lalaland\n",
            "Ingresa el elemento de la posicion 2:hard\n",
            "Ingresa el elemento de la posicion 3:die\n",
            "Ingresa el elemento de la posicion 4:pucca\n",
            "la lista en sentido invertido es:  ['pucca', 'die', 'hard', 'lalaland']\n"
          ]
        }
      ],
      "source": [
        "#2. Desarrolla un algoritmo que por medio de una función, le pida al usuario una lista de N elementos y como resultado invierta el sentido de la lista.\n",
        "n = int(input(\"Numero de ellementos en la lista: \"))\n",
        "lista=[]\n",
        "r= range(n)\n",
        "\n",
        "def invertir_lista():\n",
        "  for i in r:\n",
        "    pos= input(\"Ingresa el elemento de la posicion {}:\".format(i+1))\n",
        "    lista.append(pos)\n",
        "\n",
        "  lista.reverse()\n",
        "  print(\"la lista en sentido invertido es: \",lista)\n",
        "\n",
        "invertir_lista()"
      ]
    },
    {
      "cell_type": "code",
      "source": [
        "#3. Desarrolla un algoritmo que le pregunte al usuario cuántos números de la serie de Fibonacci quiere generar y que al final los imprima.\n",
        "def fibonacci(n):\n",
        "  serie=[0,1]\n",
        "  while len(serie)<n:\n",
        "    sig=serie[-1]+serie[-2]\n",
        "    serie.append(sig)\n",
        "  return serie\n",
        "\n",
        "n= int(input(\"Cuantos elementos quieres en la serie? \"))\n",
        "serie= fibonacci(n)\n",
        "print (serie)"
      ],
      "metadata": {
        "colab": {
          "base_uri": "https://localhost:8080/"
        },
        "id": "-NiZpc2OPm8T",
        "outputId": "2a672eb1-ec85-4c67-d4d1-3a09fc73fa91"
      },
      "execution_count": null,
      "outputs": [
        {
          "output_type": "stream",
          "name": "stdout",
          "text": [
            "Cuantos elementos quieres en la serie? 14\n",
            "[0, 1, 1, 2, 3, 5, 8, 13, 21, 34, 55, 89, 144, 233]\n"
          ]
        }
      ]
    },
    {
      "cell_type": "code",
      "source": [
        "#4. Juego de adivinar el número: Crea un programa que genere un número aleatorio entre 1 y 100, y luego le pida al usuario que adivine el número. El programa debe proporcionar pistas al usuario si el número es mayor o menor que el número objetivo, y seguir solicitando un nuevo intento hasta que el usuario adivine correctamente.\n",
        "import random\n",
        "x=101\n",
        "numero = int(random.randrange(1,101,1))\n",
        "\n",
        "def pista():\n",
        "    if numero > x:\n",
        "        print(\"mas\")\n",
        "    elif numero < x:\n",
        "        print(\"menos\")\n",
        "\n",
        "while numero != x:\n",
        "    x = int(input(\"en que numero estoy pensando? \"))\n",
        "    pista()\n",
        "\n",
        "print (\"si estaba pensando en el numero \", numero)"
      ],
      "metadata": {
        "colab": {
          "base_uri": "https://localhost:8080/"
        },
        "id": "IRhG8A70yxx4",
        "outputId": "e378950b-b53d-481e-9abe-21f3cda41fd1"
      },
      "execution_count": null,
      "outputs": [
        {
          "output_type": "stream",
          "name": "stdout",
          "text": [
            "en que numero estoy pensando? 50\n",
            "mas\n",
            "en que numero estoy pensando? 80\n",
            "menos\n",
            "en que numero estoy pensando? 70\n",
            "mas\n",
            "en que numero estoy pensando? 75\n",
            "si estaba pensando en el numero  75\n"
          ]
        }
      ]
    },
    {
      "cell_type": "code",
      "execution_count": null,
      "metadata": {
        "colab": {
          "base_uri": "https://localhost:8080/"
        },
        "id": "yYBFb1L9LoYc",
        "outputId": "126775c9-2b14-40ea-9a99-434571bde930"
      },
      "outputs": [
        {
          "output_type": "stream",
          "name": "stdout",
          "text": [
            "Ingrese el número inicial del rango: 2\n",
            "Ingrese el número final del rango: 25\n",
            "Números primos en el rango de 2 a 25 : [2, 3, 5, 7, 11, 13, 17, 19, 23]\n"
          ]
        }
      ],
      "source": [
        "#5. Ejercicio de cálculo de números primos en un rango dado: Escribe un programa que solicite al usuario un rango de números y muestre todos los números primos dentro de ese rango.\n",
        "x = int(input(\"Ingrese el número inicial del rango: \"))\n",
        "y = int(input(\"Ingrese el número final del rango: \"))\n",
        "\n",
        "def Primos(numero):\n",
        "    if numero <= 1:\n",
        "        return False\n",
        "    elif numero <= 3:\n",
        "        return True\n",
        "    elif numero % 2 == 0 or numero % 3 == 0:\n",
        "        return False\n",
        "    i = 5\n",
        "    while i * i <= numero:\n",
        "        if numero % i == 0 or numero % (i + 2) == 0:\n",
        "            return False\n",
        "        i += 6\n",
        "    return True\n",
        "\n",
        "def numeros_rango(x, y):\n",
        "    numPrimos = []\n",
        "    for numero in range(x, y + 1):\n",
        "        if Primos(numero):\n",
        "            numPrimos.append(numero)\n",
        "    return numPrimos\n",
        "\n",
        "print(\"Números primos en el rango de\", x, \"a\", y, \":\", numeros_rango(x, y))"
      ]
    },
    {
      "cell_type": "code",
      "execution_count": null,
      "metadata": {
        "colab": {
          "base_uri": "https://localhost:8080/"
        },
        "id": "8nyG1l6G95P4",
        "outputId": "c05bcdaf-a6ea-45c2-d4b7-d5804d3db919"
      },
      "outputs": [
        {
          "output_type": "stream",
          "name": "stdout",
          "text": [
            "Ingrese el primer número: 29\n",
            "Ingrese el segundo número: 16\n",
            "Suma: 45.0\n",
            "Resta: 13.0\n",
            "Multiplicacion: 464.0\n",
            "Division: 1.8125\n"
          ]
        }
      ],
      "source": [
        "#6.Ejercicio de implementación de una calculadora básica utilizando funciones: Escribe un programa que solicite al usuario dos números y realice operaciones básicas como suma, resta, multiplicación y división utilizando funciones separadas para cada operación.\n",
        "\n",
        "def suma():\n",
        "  res= n1 + n2\n",
        "  print(\"Suma:\", res)\n",
        "\n",
        "def resta():\n",
        "  res= n1 - n2\n",
        "  print(\"Resta:\", res)\n",
        "\n",
        "def multiplicacion():\n",
        "  res= n1 * n2\n",
        "  print(\"Multiplicacion:\", res)\n",
        "\n",
        "def division():\n",
        "  res= n1 / n2\n",
        "  print(\"Division:\", res)\n",
        "\n",
        "n1= float(input(\"Ingrese el primer número: \"))\n",
        "n2= float(input(\"Ingrese el segundo número: \"))\n",
        "\n",
        "suma()\n",
        "resta()\n",
        "multiplicacion()\n",
        "division()"
      ]
    }
  ]
}